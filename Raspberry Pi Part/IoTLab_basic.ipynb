{
 "cells": [
  {
   "cell_type": "code",
   "execution_count": 6,
   "metadata": {},
   "outputs": [],
   "source": [
    "import RPi.GPIO as pi\n",
    "\n",
    "pi.setmode(pi.BCM)\n",
    "pi.setup(22, pi.OUT)\n",
    "pi.output(22,pi.HIGH)"
   ]
  },
  {
   "cell_type": "code",
   "execution_count": 4,
   "metadata": {},
   "outputs": [],
   "source": [
    "import wiotp.sdk\n",
    "import RPi.GPIO as g\n",
    "from signal import pause\n",
    "deviceOptions = {\n",
    " \"identity\": {\"orgId\": \"wla4dm\", \"typeId\": \"raspberrypi\", \"deviceId\": \"iotDev4\"},\n",
    "  \"auth\": {\"token\": \"Fgh)9f26nAAxxe(b7Y\"},\n",
    "}\n",
    "data = {\n",
    "   \"d\" : {\n",
    "   }\n",
    "}\n",
    "def commandProcessor(cmd):\n",
    "    print(cmd.data[\"d\"])\n",
    "    if cmd.data[\"d\"][\"lamp\"]:\n",
    "        if cmd.data[\"d\"][\"lamp\"] == \"on\":\n",
    "            g.output(22, g.HIGH)\n",
    "            data[\"d\"][\"lamp\"] = \"on\"\n",
    "        else:\n",
    "            g.output(22, g.LOW)\n",
    "            data[\"d\"][\"lamp\"] = \"off\"\n",
    "        deviceCli.publishEvent(\"status\", \"json\", data, qos=0)\n",
    "\n",
    "g.setmode(g.BCM)\n",
    "g.setup(22, g.OUT)\n",
    "deviceCli = wiotp.sdk.device.DeviceClient(deviceOptions)\n",
    "deviceCli.commandCallback = commandProcessor\n",
    "deviceCli.connect()\n",
    "pause()"
   ]
  },
  {
   "cell_type": "code",
   "execution_count": null,
   "metadata": {},
   "outputs": [],
   "source": []
  }
 ],
 "metadata": {
  "kernelspec": {
   "display_name": "Python 2",
   "language": "python",
   "name": "python2"
  },
  "language_info": {
   "codemirror_mode": {
    "name": "ipython",
    "version": 2
   },
   "file_extension": ".py",
   "mimetype": "text/x-python",
   "name": "python",
   "nbconvert_exporter": "python",
   "pygments_lexer": "ipython2",
   "version": "2.7.16"
  }
 },
 "nbformat": 4,
 "nbformat_minor": 4
}
